{
 "cells": [
  {
   "cell_type": "code",
   "execution_count": 39,
   "metadata": {},
   "outputs": [
    {
     "data": {
      "text/html": [
       "<div>\n",
       "<style scoped>\n",
       "    .dataframe tbody tr th:only-of-type {\n",
       "        vertical-align: middle;\n",
       "    }\n",
       "\n",
       "    .dataframe tbody tr th {\n",
       "        vertical-align: top;\n",
       "    }\n",
       "\n",
       "    .dataframe thead th {\n",
       "        text-align: right;\n",
       "    }\n",
       "</style>\n",
       "<table border=\"1\" class=\"dataframe\">\n",
       "  <thead>\n",
       "    <tr style=\"text-align: right;\">\n",
       "      <th></th>\n",
       "      <th>r</th>\n",
       "      <th>alpha</th>\n",
       "      <th>bleu</th>\n",
       "      <th>comet</th>\n",
       "    </tr>\n",
       "  </thead>\n",
       "  <tbody>\n",
       "    <tr>\n",
       "      <th>0</th>\n",
       "      <td>16</td>\n",
       "      <td>16</td>\n",
       "      <td>65,8481776532402</td>\n",
       "      <td>92,96</td>\n",
       "    </tr>\n",
       "    <tr>\n",
       "      <th>1</th>\n",
       "      <td>16</td>\n",
       "      <td>32</td>\n",
       "      <td>65,59</td>\n",
       "      <td>92,82</td>\n",
       "    </tr>\n",
       "    <tr>\n",
       "      <th>2</th>\n",
       "      <td>32</td>\n",
       "      <td>32</td>\n",
       "      <td>66,0206308925869</td>\n",
       "      <td>93,10</td>\n",
       "    </tr>\n",
       "    <tr>\n",
       "      <th>3</th>\n",
       "      <td>32</td>\n",
       "      <td>64</td>\n",
       "      <td>66,13</td>\n",
       "      <td>93,37</td>\n",
       "    </tr>\n",
       "    <tr>\n",
       "      <th>4</th>\n",
       "      <td>64</td>\n",
       "      <td>64</td>\n",
       "      <td>67,3004220403365</td>\n",
       "      <td>93,09</td>\n",
       "    </tr>\n",
       "    <tr>\n",
       "      <th>5</th>\n",
       "      <td>64</td>\n",
       "      <td>128</td>\n",
       "      <td>67,62</td>\n",
       "      <td>93,23</td>\n",
       "    </tr>\n",
       "    <tr>\n",
       "      <th>6</th>\n",
       "      <td>128</td>\n",
       "      <td>128</td>\n",
       "      <td>70,06</td>\n",
       "      <td>93,29</td>\n",
       "    </tr>\n",
       "    <tr>\n",
       "      <th>7</th>\n",
       "      <td>128</td>\n",
       "      <td>256</td>\n",
       "      <td>69,06</td>\n",
       "      <td>92,97</td>\n",
       "    </tr>\n",
       "    <tr>\n",
       "      <th>8</th>\n",
       "      <td>256</td>\n",
       "      <td>256</td>\n",
       "      <td>67,77</td>\n",
       "      <td>92,90</td>\n",
       "    </tr>\n",
       "    <tr>\n",
       "      <th>9</th>\n",
       "      <td>256</td>\n",
       "      <td>512</td>\n",
       "      <td>66,61</td>\n",
       "      <td>92,84</td>\n",
       "    </tr>\n",
       "  </tbody>\n",
       "</table>\n",
       "</div>"
      ],
      "text/plain": [
       "     r alpha              bleu  comet\n",
       "0   16    16  65,8481776532402  92,96\n",
       "1   16    32             65,59  92,82\n",
       "2   32    32  66,0206308925869  93,10\n",
       "3   32    64             66,13  93,37\n",
       "4   64    64  67,3004220403365  93,09\n",
       "5   64   128             67,62  93,23\n",
       "6  128   128             70,06  93,29\n",
       "7  128   256             69,06  92,97\n",
       "8  256   256             67,77  92,90\n",
       "9  256   512             66,61  92,84"
      ]
     },
     "execution_count": 39,
     "metadata": {},
     "output_type": "execute_result"
    }
   ],
   "source": [
    "import pandas as pd\n",
    "\n",
    "gemma = pd.read_csv('./exp/gemma/results_gemma_n10_seed.csv', index_col = [0])\n",
    "gemma = res[['r', 'alpha', 'bleu', 'comet']]\n",
    "\n",
    "llama = pd.read_csv('./exp/llama3/results_llama3_n10_seed.csv', delimiter=';')\n",
    "\n",
    "gemma['r'] = [str(i) for i in gemma['r']]\n",
    "llama['r'] = [str(i) for i in llama['r']]\n",
    "gemma['alpha'] = [str(i) for i in gemma['alpha']]\n",
    "llama['alpha'] = [str(i) for i in llama['alpha']]\n",
    "\n",
    "gemma['bleu'] = [i*100 for i in gemma['bleu']]\n",
    "gemma['comet'] = [i*100 for i in gemma['comet']]\n",
    "\n",
    "llama"
   ]
  },
  {
   "cell_type": "code",
   "execution_count": 40,
   "metadata": {},
   "outputs": [],
   "source": [
    "compare_bleu = [65.59, 66.13, 67.62]"
   ]
  },
  {
   "cell_type": "code",
   "execution_count": 25,
   "metadata": {},
   "outputs": [
    {
     "data": {
      "text/html": [
       "<div>\n",
       "<style scoped>\n",
       "    .dataframe tbody tr th:only-of-type {\n",
       "        vertical-align: middle;\n",
       "    }\n",
       "\n",
       "    .dataframe tbody tr th {\n",
       "        vertical-align: top;\n",
       "    }\n",
       "\n",
       "    .dataframe thead th {\n",
       "        text-align: right;\n",
       "    }\n",
       "</style>\n",
       "<table border=\"1\" class=\"dataframe\">\n",
       "  <thead>\n",
       "    <tr style=\"text-align: right;\">\n",
       "      <th></th>\n",
       "      <th>r</th>\n",
       "      <th>alpha</th>\n",
       "      <th>bleu</th>\n",
       "      <th>comet</th>\n",
       "    </tr>\n",
       "  </thead>\n",
       "  <tbody>\n",
       "    <tr>\n",
       "      <th>1</th>\n",
       "      <td>16</td>\n",
       "      <td>32</td>\n",
       "      <td>65,59</td>\n",
       "      <td>92,82</td>\n",
       "    </tr>\n",
       "    <tr>\n",
       "      <th>3</th>\n",
       "      <td>32</td>\n",
       "      <td>64</td>\n",
       "      <td>66,13</td>\n",
       "      <td>93,37</td>\n",
       "    </tr>\n",
       "    <tr>\n",
       "      <th>5</th>\n",
       "      <td>64</td>\n",
       "      <td>128</td>\n",
       "      <td>67,62</td>\n",
       "      <td>93,23</td>\n",
       "    </tr>\n",
       "  </tbody>\n",
       "</table>\n",
       "</div>"
      ],
      "text/plain": [
       "    r alpha   bleu  comet\n",
       "1  16    32  65,59  92,82\n",
       "3  32    64  66,13  93,37\n",
       "5  64   128  67,62  93,23"
      ]
     },
     "execution_count": 25,
     "metadata": {},
     "output_type": "execute_result"
    }
   ],
   "source": [
    "llama_aeqr = llama[llama['r'] == llama['alpha']]\n",
    "llama_aleqr = llama[llama['r'] != llama['alpha']]\n",
    "compare_gemma = llama_aleqr[llama_aleqr['r'].isin(['16', '32', '64'])]\n",
    "\n",
    "compare_gemma"
   ]
  },
  {
   "cell_type": "code",
   "execution_count": 47,
   "metadata": {},
   "outputs": [
    {
     "data": {
      "text/plain": [
       "[<matplotlib.lines.Line2D at 0x24d698f7620>]"
      ]
     },
     "execution_count": 47,
     "metadata": {},
     "output_type": "execute_result"
    },
    {
     "data": {
      "image/png": "[encoded data removed]",
      "text/plain": [
       "<Figure size 600x500 with 1 Axes>"
      ]
     },
     "metadata": {},
     "output_type": "display_data"
    }
   ],
   "source": [
    "import matplotlib.pyplot as plt\n",
    "\n",
    "r = gemma['r'].to_list()\n",
    "alpha = gemma['alpha'].to_list()\n",
    "\n",
    "gemma_bleu = gemma['bleu'].to_list()\n",
    "gemma_comet = gemma['comet'].to_list()\n",
    "\n",
    "llama_bleu = compare_gemma['bleu'].to_list()\n",
    "llama_comet = compare_gemma['comet'].to_list()\n",
    "\n",
    "\n",
    "plt.figure(1, figsize = (6,5))\n",
    "ax = plt.gca()\n",
    "ax.set_ylim([40, 70])\n",
    "plt.plot(r, gemma_bleu)\n",
    "plt.plot(r, compare_bleu)"
   ]
  },
  {
   "cell_type": "code",
   "execution_count": 34,
   "metadata": {},
   "outputs": [
    {
     "data": {
      "text/plain": [
       "[<matplotlib.lines.Line2D at 0x24d679b68a0>]"
      ]
     },
     "execution_count": 34,
     "metadata": {},
     "output_type": "execute_result"
    },
    {
     "data": {
      "image/png": "[encoded data removed]",
      "text/plain": [
       "<Figure size 640x480 with 1 Axes>"
      ]
     },
     "metadata": {},
     "output_type": "display_data"
    }
   ],
   "source": [
    "plt.plot(r, gemma_comet)"
   ]
  }
 ],
 "metadata": {
  "kernelspec": {
   "display_name": "Python 3",
   "language": "python",
   "name": "python3"
  },
  "language_info": {
   "codemirror_mode": {
    "name": "ipython",
    "version": 3
   },
   "file_extension": ".py",
   "mimetype": "text/x-python",
   "name": "python",
   "nbconvert_exporter": "python",
   "pygments_lexer": "ipython3",
   "version": "3.12.4"
  }
 },
 "nbformat": 4,
 "nbformat_minor": 2
}
