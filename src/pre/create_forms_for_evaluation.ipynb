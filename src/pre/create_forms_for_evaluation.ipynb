{
 "cells": [
  {
   "cell_type": "code",
   "execution_count": 13,
   "metadata": {},
   "outputs": [],
   "source": [
    "import pandas as pd\n",
    "\n",
    "validation = pd.read_csv('./data/pre/validation_data_columns_es.csv')\n",
    "real_phrases = validation['phrase'].to_list()\n",
    "\n",
    "\n",
    "for i in range(1, 6):\n",
    "    form = pd.read_excel(io = f'./data/ppl/form_00{i}.xlsx')\n",
    "    form.rename(columns={'phrase': 'generated phrases'}, inplace=True)\n",
    "    form['real phrases'] = real_phrases\n",
    "\n",
    "    form.to_csv(f'./data/ppl/evaluate_form_00{i}.csv')\n"
   ]
  }
 ],
 "metadata": {
  "kernelspec": {
   "display_name": "Python 3",
   "language": "python",
   "name": "python3"
  },
  "language_info": {
   "codemirror_mode": {
    "name": "ipython",
    "version": 3
   },
   "file_extension": ".py",
   "mimetype": "text/x-python",
   "name": "python",
   "nbconvert_exporter": "python",
   "pygments_lexer": "ipython3",
   "version": "3.12.4"
  }
 },
 "nbformat": 4,
 "nbformat_minor": 2
}
